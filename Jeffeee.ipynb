{
 "cells": [
  {
   "cell_type": "code",
   "execution_count": 6,
   "id": "89eae415",
   "metadata": {},
   "outputs": [],
   "source": [
    "import pandas as pd\n",
    "import matplotlib.pyplot as plt\n",
    "import seaborn as sb"
   ]
  },
  {
   "cell_type": "code",
   "execution_count": 7,
   "id": "82cf75a3",
   "metadata": {},
   "outputs": [
    {
     "name": "stdout",
     "output_type": "stream",
     "text": [
      "                            time  generation biomass  \\\n",
      "0      2015-01-01 00:00:00+01:00               447.0   \n",
      "1      2015-01-01 01:00:00+01:00               449.0   \n",
      "2      2015-01-01 02:00:00+01:00               448.0   \n",
      "3      2015-01-01 03:00:00+01:00               438.0   \n",
      "4      2015-01-01 04:00:00+01:00               428.0   \n",
      "...                          ...                 ...   \n",
      "35059  2018-12-31 19:00:00+01:00               297.0   \n",
      "35060  2018-12-31 20:00:00+01:00               296.0   \n",
      "35061  2018-12-31 21:00:00+01:00               292.0   \n",
      "35062  2018-12-31 22:00:00+01:00               293.0   \n",
      "35063  2018-12-31 23:00:00+01:00               290.0   \n",
      "\n",
      "       generation fossil brown coal/lignite  \\\n",
      "0                                     329.0   \n",
      "1                                     328.0   \n",
      "2                                     323.0   \n",
      "3                                     254.0   \n",
      "4                                     187.0   \n",
      "...                                     ...   \n",
      "35059                                   0.0   \n",
      "35060                                   0.0   \n",
      "35061                                   0.0   \n",
      "35062                                   0.0   \n",
      "35063                                   0.0   \n",
      "\n",
      "       generation fossil coal-derived gas  generation fossil gas  \\\n",
      "0                                     0.0                 4844.0   \n",
      "1                                     0.0                 5196.0   \n",
      "2                                     0.0                 4857.0   \n",
      "3                                     0.0                 4314.0   \n",
      "4                                     0.0                 4130.0   \n",
      "...                                   ...                    ...   \n",
      "35059                                 0.0                 7634.0   \n",
      "35060                                 0.0                 7241.0   \n",
      "35061                                 0.0                 7025.0   \n",
      "35062                                 0.0                 6562.0   \n",
      "35063                                 0.0                 6926.0   \n",
      "\n",
      "       generation fossil hard coal  generation fossil oil  \\\n",
      "0                           4821.0                  162.0   \n",
      "1                           4755.0                  158.0   \n",
      "2                           4581.0                  157.0   \n",
      "3                           4131.0                  160.0   \n",
      "4                           3840.0                  156.0   \n",
      "...                            ...                    ...   \n",
      "35059                       2628.0                  178.0   \n",
      "35060                       2566.0                  174.0   \n",
      "35061                       2422.0                  168.0   \n",
      "35062                       2293.0                  163.0   \n",
      "35063                       2166.0                  163.0   \n",
      "\n",
      "       generation fossil oil shale  generation fossil peat  \\\n",
      "0                              0.0                     0.0   \n",
      "1                              0.0                     0.0   \n",
      "2                              0.0                     0.0   \n",
      "3                              0.0                     0.0   \n",
      "4                              0.0                     0.0   \n",
      "...                            ...                     ...   \n",
      "35059                          0.0                     0.0   \n",
      "35060                          0.0                     0.0   \n",
      "35061                          0.0                     0.0   \n",
      "35062                          0.0                     0.0   \n",
      "35063                          0.0                     0.0   \n",
      "\n",
      "       generation geothermal  ...  generation waste  generation wind offshore  \\\n",
      "0                        0.0  ...             196.0                       0.0   \n",
      "1                        0.0  ...             195.0                       0.0   \n",
      "2                        0.0  ...             196.0                       0.0   \n",
      "3                        0.0  ...             191.0                       0.0   \n",
      "4                        0.0  ...             189.0                       0.0   \n",
      "...                      ...  ...               ...                       ...   \n",
      "35059                    0.0  ...             277.0                       0.0   \n",
      "35060                    0.0  ...             280.0                       0.0   \n",
      "35061                    0.0  ...             286.0                       0.0   \n",
      "35062                    0.0  ...             287.0                       0.0   \n",
      "35063                    0.0  ...             287.0                       0.0   \n",
      "\n",
      "       generation wind onshore  forecast solar day ahead  \\\n",
      "0                       6378.0                      17.0   \n",
      "1                       5890.0                      16.0   \n",
      "2                       5461.0                       8.0   \n",
      "3                       5238.0                       2.0   \n",
      "4                       4935.0                       9.0   \n",
      "...                        ...                       ...   \n",
      "35059                   3113.0                      96.0   \n",
      "35060                   3288.0                      51.0   \n",
      "35061                   3503.0                      36.0   \n",
      "35062                   3586.0                      29.0   \n",
      "35063                   3651.0                      26.0   \n",
      "\n",
      "       forecast wind offshore eday ahead  forecast wind onshore day ahead  \\\n",
      "0                                    NaN                           6436.0   \n",
      "1                                    NaN                           5856.0   \n",
      "2                                    NaN                           5454.0   \n",
      "3                                    NaN                           5151.0   \n",
      "4                                    NaN                           4861.0   \n",
      "...                                  ...                              ...   \n",
      "35059                                NaN                           3253.0   \n",
      "35060                                NaN                           3353.0   \n",
      "35061                                NaN                           3404.0   \n",
      "35062                                NaN                           3273.0   \n",
      "35063                                NaN                           3117.0   \n",
      "\n",
      "       total load forecast  total load actual  price day ahead  price actual  \n",
      "0                  26118.0            25385.0            50.10         65.41  \n",
      "1                  24934.0            24382.0            48.10         64.92  \n",
      "2                  23515.0            22734.0            47.33         64.48  \n",
      "3                  22642.0            21286.0            42.27         59.32  \n",
      "4                  21785.0            20264.0            38.41         56.04  \n",
      "...                    ...                ...              ...           ...  \n",
      "35059              30619.0            30653.0            68.85         77.02  \n",
      "35060              29932.0            29735.0            68.40         76.16  \n",
      "35061              27903.0            28071.0            66.88         74.30  \n",
      "35062              25450.0            25801.0            63.93         69.89  \n",
      "35063              24424.0            24455.0            64.27         69.88  \n",
      "\n",
      "[35064 rows x 29 columns]\n"
     ]
    }
   ],
   "source": [
    "energy = pd.read_csv(\"energy_dataset.csv\")\n",
    "print(energy)"
   ]
  },
  {
   "cell_type": "code",
   "execution_count": 8,
   "id": "7552e9c4",
   "metadata": {},
   "outputs": [],
   "source": [
    "# print(energy.columns)\n",
    "total_actual_load = energy[\"total load actual\"]"
   ]
  },
  {
   "cell_type": "code",
   "execution_count": 9,
   "id": "62f8edb7",
   "metadata": {},
   "outputs": [
    {
     "name": "stdout",
     "output_type": "stream",
     "text": [
      "<class 'pandas.core.series.Series'>\n"
     ]
    }
   ],
   "source": [
    "print(type(total_actual_load))"
   ]
  },
  {
   "cell_type": "code",
   "execution_count": 10,
   "id": "bb6aff79",
   "metadata": {},
   "outputs": [
    {
     "name": "stdout",
     "output_type": "stream",
     "text": [
      "<class 'list'>\n"
     ]
    }
   ],
   "source": [
    "print(type(list(total_actual_load)))"
   ]
  },
  {
   "cell_type": "code",
   "execution_count": null,
   "id": "f564b07a",
   "metadata": {},
   "outputs": [],
   "source": []
  },
  {
   "cell_type": "code",
   "execution_count": 11,
   "id": "f5a7e4f9",
   "metadata": {},
   "outputs": [
    {
     "name": "stdout",
     "output_type": "stream",
     "text": [
      "                           dt_iso city_name     temp  temp_min  temp_max  \\\n",
      "0       2015-01-01 00:00:00+01:00  Valencia  270.475   270.475   270.475   \n",
      "1       2015-01-01 01:00:00+01:00  Valencia  270.475   270.475   270.475   \n",
      "2       2015-01-01 02:00:00+01:00  Valencia  269.686   269.686   269.686   \n",
      "3       2015-01-01 03:00:00+01:00  Valencia  269.686   269.686   269.686   \n",
      "4       2015-01-01 04:00:00+01:00  Valencia  269.686   269.686   269.686   \n",
      "...                           ...       ...      ...       ...       ...   \n",
      "178391  2018-12-31 19:00:00+01:00   Seville  287.760   287.150   288.150   \n",
      "178392  2018-12-31 20:00:00+01:00   Seville  285.760   285.150   286.150   \n",
      "178393  2018-12-31 21:00:00+01:00   Seville  285.150   285.150   285.150   \n",
      "178394  2018-12-31 22:00:00+01:00   Seville  284.150   284.150   284.150   \n",
      "178395  2018-12-31 23:00:00+01:00   Seville  283.970   282.150   285.150   \n",
      "\n",
      "        pressure  humidity  wind_speed  wind_deg  rain_1h  rain_3h  snow_3h  \\\n",
      "0           1001        77           1        62      0.0      0.0      0.0   \n",
      "1           1001        77           1        62      0.0      0.0      0.0   \n",
      "2           1002        78           0        23      0.0      0.0      0.0   \n",
      "3           1002        78           0        23      0.0      0.0      0.0   \n",
      "4           1002        78           0        23      0.0      0.0      0.0   \n",
      "...          ...       ...         ...       ...      ...      ...      ...   \n",
      "178391      1028        54           3        30      0.0      0.0      0.0   \n",
      "178392      1029        62           3        30      0.0      0.0      0.0   \n",
      "178393      1028        58           4        50      0.0      0.0      0.0   \n",
      "178394      1029        57           4        60      0.0      0.0      0.0   \n",
      "178395      1029        70           3        50      0.0      0.0      0.0   \n",
      "\n",
      "        clouds_all  weather_id weather_main weather_description weather_icon  \n",
      "0                0         800        clear        sky is clear          01n  \n",
      "1                0         800        clear        sky is clear          01n  \n",
      "2                0         800        clear        sky is clear          01n  \n",
      "3                0         800        clear        sky is clear          01n  \n",
      "4                0         800        clear        sky is clear          01n  \n",
      "...            ...         ...          ...                 ...          ...  \n",
      "178391           0         800        clear        sky is clear          01n  \n",
      "178392           0         800        clear        sky is clear          01n  \n",
      "178393           0         800        clear        sky is clear          01n  \n",
      "178394           0         800        clear        sky is clear          01n  \n",
      "178395           0         800        clear        sky is clear          01n  \n",
      "\n",
      "[178396 rows x 17 columns]\n"
     ]
    }
   ],
   "source": [
    "weather = pd.read_csv(\"weather_features.csv\")\n",
    "print(weather)"
   ]
  },
  {
   "cell_type": "code",
   "execution_count": 12,
   "id": "bae93b0a",
   "metadata": {},
   "outputs": [],
   "source": [
    "temp = weather[\"temp\"]"
   ]
  },
  {
   "cell_type": "code",
   "execution_count": 13,
   "id": "cabad67f",
   "metadata": {},
   "outputs": [],
   "source": [
    "total_actual_load = list(total_actual_load)\n",
    "temp = list(temp)\n",
    "total_actual_load = total_actual_load[:100]\n",
    "temp = temp[:100]"
   ]
  },
  {
   "cell_type": "code",
   "execution_count": 14,
   "id": "440342e5",
   "metadata": {},
   "outputs": [
    {
     "name": "stdout",
     "output_type": "stream",
     "text": [
      "100\n"
     ]
    }
   ],
   "source": [
    "print(len(temp))"
   ]
  },
  {
   "cell_type": "code",
   "execution_count": 15,
   "id": "a4f78e2f",
   "metadata": {},
   "outputs": [
    {
     "data": {
      "image/png": "[encoded data removed]",
      "text/plain": [
       "<Figure size 432x288 with 1 Axes>"
      ]
     },
     "metadata": {
      "needs_background": "light"
     },
     "output_type": "display_data"
    }
   ],
   "source": [
    "plt.scatter(total_actual_load,temp, c =\"blue\")\n",
    " \n",
    "# To show the plot\n",
    "plt.show()"
   ]
  },
  {
   "cell_type": "code",
   "execution_count": 21,
   "id": "40354689",
   "metadata": {},
   "outputs": [
    {
     "data": {
      "text/html": [
       "<div>\n",
       "<style scoped>\n",
       "    .dataframe tbody tr th:only-of-type {\n",
       "        vertical-align: middle;\n",
       "    }\n",
       "\n",
       "    .dataframe tbody tr th {\n",
       "        vertical-align: top;\n",
       "    }\n",
       "\n",
       "    .dataframe thead th {\n",
       "        text-align: right;\n",
       "    }\n",
       "</style>\n",
       "<table border=\"1\" class=\"dataframe\">\n",
       "  <thead>\n",
       "    <tr style=\"text-align: right;\">\n",
       "      <th></th>\n",
       "      <th>temp</th>\n",
       "      <th>total load actual</th>\n",
       "    </tr>\n",
       "  </thead>\n",
       "  <tbody>\n",
       "    <tr>\n",
       "      <th>0</th>\n",
       "      <td>270.4750</td>\n",
       "      <td>25385.0</td>\n",
       "    </tr>\n",
       "    <tr>\n",
       "      <th>1</th>\n",
       "      <td>270.4750</td>\n",
       "      <td>24382.0</td>\n",
       "    </tr>\n",
       "    <tr>\n",
       "      <th>2</th>\n",
       "      <td>269.6860</td>\n",
       "      <td>22734.0</td>\n",
       "    </tr>\n",
       "    <tr>\n",
       "      <th>3</th>\n",
       "      <td>269.6860</td>\n",
       "      <td>21286.0</td>\n",
       "    </tr>\n",
       "    <tr>\n",
       "      <th>4</th>\n",
       "      <td>269.6860</td>\n",
       "      <td>20264.0</td>\n",
       "    </tr>\n",
       "    <tr>\n",
       "      <th>...</th>\n",
       "      <td>...</td>\n",
       "      <td>...</td>\n",
       "    </tr>\n",
       "    <tr>\n",
       "      <th>95</th>\n",
       "      <td>274.5185</td>\n",
       "      <td>26270.0</td>\n",
       "    </tr>\n",
       "    <tr>\n",
       "      <th>96</th>\n",
       "      <td>273.6080</td>\n",
       "      <td>25069.0</td>\n",
       "    </tr>\n",
       "    <tr>\n",
       "      <th>97</th>\n",
       "      <td>273.6080</td>\n",
       "      <td>23390.0</td>\n",
       "    </tr>\n",
       "    <tr>\n",
       "      <th>98</th>\n",
       "      <td>273.5530</td>\n",
       "      <td>21988.0</td>\n",
       "    </tr>\n",
       "    <tr>\n",
       "      <th>99</th>\n",
       "      <td>273.5530</td>\n",
       "      <td>21182.0</td>\n",
       "    </tr>\n",
       "  </tbody>\n",
       "</table>\n",
       "<p>100 rows × 2 columns</p>\n",
       "</div>"
      ],
      "text/plain": [
       "        temp  total load actual\n",
       "0   270.4750            25385.0\n",
       "1   270.4750            24382.0\n",
       "2   269.6860            22734.0\n",
       "3   269.6860            21286.0\n",
       "4   269.6860            20264.0\n",
       "..       ...                ...\n",
       "95  274.5185            26270.0\n",
       "96  273.6080            25069.0\n",
       "97  273.6080            23390.0\n",
       "98  273.5530            21988.0\n",
       "99  273.5530            21182.0\n",
       "\n",
       "[100 rows x 2 columns]"
      ]
     },
     "execution_count": 21,
     "metadata": {},
     "output_type": "execute_result"
    }
   ],
   "source": [
    "df = pd.read_excel('Details.xlsx')\n",
    "df = df.head(100)\n",
    "df"
   ]
  },
  {
   "cell_type": "code",
   "execution_count": 22,
   "id": "ab1ce98e",
   "metadata": {},
   "outputs": [
    {
     "data": {
      "text/plain": [
       "<AxesSubplot:xlabel='total load actual', ylabel='temp'>"
      ]
     },
     "execution_count": 22,
     "metadata": {},
     "output_type": "execute_result"
    },
    {
     "data": {
      "image/png": "[encoded data removed]",
      "text/plain": [
       "<Figure size 432x288 with 1 Axes>"
      ]
     },
     "metadata": {
      "needs_background": "light"
     },
     "output_type": "display_data"
    }
   ],
   "source": [
    "sb.regplot(x = \"total load actual\",\n",
    "            y = \"temp\", \n",
    "            ci = None,\n",
    "            data = df)"
   ]
  },
  {
   "cell_type": "code",
   "execution_count": 23,
   "id": "38e31c69",
   "metadata": {},
   "outputs": [
    {
     "data": {
      "text/plain": [
       "<seaborn.axisgrid.FacetGrid at 0x207e825e2b0>"
      ]
     },
     "execution_count": 23,
     "metadata": {},
     "output_type": "execute_result"
    },
    {
     "data": {
      "image/png": "[encoded data removed]",
      "text/plain": [
       "<Figure size 360x360 with 1 Axes>"
      ]
     },
     "metadata": {
      "needs_background": "light"
     },
     "output_type": "display_data"
    }
   ],
   "source": [
    "sb.lmplot(x = \"total load actual\",\n",
    "            y = \"temp\", \n",
    "            ci = None,\n",
    "            data = df)"
   ]
  },
  {
   "cell_type": "code",
   "execution_count": null,
   "id": "747ef17a",
   "metadata": {},
   "outputs": [],
   "source": []
  }
 ],
 "metadata": {
  "kernelspec": {
   "display_name": "Python 3 (ipykernel)",
   "language": "python",
   "name": "python3"
  },
  "language_info": {
   "codemirror_mode": {
    "name": "ipython",
    "version": 3
   },
   "file_extension": ".py",
   "mimetype": "text/x-python",
   "name": "python",
   "nbconvert_exporter": "python",
   "pygments_lexer": "ipython3",
   "version": "3.9.7"
  }
 },
 "nbformat": 4,
 "nbformat_minor": 5
}
